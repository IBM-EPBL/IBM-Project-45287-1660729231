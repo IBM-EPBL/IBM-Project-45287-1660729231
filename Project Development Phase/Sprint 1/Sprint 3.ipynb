{
 "cells": [
  {
   "cell_type": "code",
   "execution_count": 4,
   "metadata": {},
   "outputs": [],
   "source": [
    "import cv2\n",
    "import numpy as np\n",
    "from keras.models import load_model\n",
    "from skimage.transform import resize"
   ]
  },
  {
   "cell_type": "code",
   "execution_count": 5,
   "metadata": {},
   "outputs": [],
   "source": [
    "model = load_model('../as1png.h5')"
   ]
  },
  {
   "cell_type": "code",
   "execution_count": 6,
   "metadata": {},
   "outputs": [],
   "source": [
    "def detect(frame):\n",
    "    img = resize(frame, (64, 64, 1))\n",
    "    img = np.expand_dims(img, axis = 0)\n",
    "    if(np.max(img) > 1):\n",
    "        img = img/255.0\n",
    "    prediction = model.predict(img)\n",
    "    print(prediction)\n",
    "    prediction = (model.predict(img) > 0.5).astype('int32')\n",
    "    print(prediction)"
   ]
  },
  {
   "cell_type": "code",
   "execution_count": 9,
   "metadata": {},
   "outputs": [
    {
     "name": "stdout",
     "output_type": "stream",
     "text": [
      "1/1 [==============================] - 0s 36ms/step\n",
      "[[9.9968159e-01 3.0091498e-12 2.4218688e-10 3.5043505e-12 3.1718318e-04\n",
      "  6.7085704e-10 6.2881168e-07 2.5672009e-07 4.0906860e-07]]\n",
      "1/1 [==============================] - 0s 31ms/step\n",
      "[[1 0 0 0 0 0 0 0 0]]\n"
     ]
    }
   ],
   "source": [
    "frame = cv2.imread(r'./Datasets/test_sets/A/108.png')\n",
    "data = detect(frame)"
   ]
  },
  {
   "cell_type": "code",
   "execution_count": 10,
   "metadata": {},
   "outputs": [
    {
     "name": "stdout",
     "output_type": "stream",
     "text": [
      "1/1 [==============================] - 0s 35ms/step\n",
      "[[2.7618323e-09 9.9993634e-01 1.8754812e-06 1.2471174e-06 5.4558855e-05\n",
      "  1.0674579e-06 9.1501634e-10 5.5282865e-08 4.9394116e-06]]\n",
      "1/1 [==============================] - 0s 31ms/step\n",
      "[[0 1 0 0 0 0 0 0 0]]\n"
     ]
    }
   ],
   "source": [
    "frame = cv2.imread(r'./Datasets/test_sets/B/15.png')\n",
    "data = detect(frame)"
   ]
  },
  {
   "cell_type": "code",
   "execution_count": 11,
   "metadata": {},
   "outputs": [
    {
     "name": "stdout",
     "output_type": "stream",
     "text": [
      "1/1 [==============================] - 0s 38ms/step\n",
      "[[1.3005273e-14 1.7619950e-06 9.9985850e-01 6.0443241e-11 2.5366196e-06\n",
      "  1.0765740e-07 1.3710307e-04 2.2931329e-12 1.5103675e-08]]\n",
      "1/1 [==============================] - 0s 34ms/step\n",
      "[[0 0 1 0 0 0 0 0 0]]\n"
     ]
    }
   ],
   "source": [
    "frame = cv2.imread(r'./Datasets/test_sets/C/24.png')\n",
    "data = detect(frame)"
   ]
  }
 ],
 "metadata": {
  "kernelspec": {
   "display_name": "Python 3.10.0 64-bit",
   "language": "python",
   "name": "python3"
  },
  "language_info": {
   "codemirror_mode": {
    "name": "ipython",
    "version": 3
   },
   "file_extension": ".py",
   "mimetype": "text/x-python",
   "name": "python",
   "nbconvert_exporter": "python",
   "pygments_lexer": "ipython3",
   "version": "3.10.0"
  },
  "orig_nbformat": 4,
  "vscode": {
   "interpreter": {
    "hash": "68c5297898342058e6cee3379285a1537145e6d530fdcb2202b9b4ebdec4af74"
   }
  }
 },
 "nbformat": 4,
 "nbformat_minor": 2
}
