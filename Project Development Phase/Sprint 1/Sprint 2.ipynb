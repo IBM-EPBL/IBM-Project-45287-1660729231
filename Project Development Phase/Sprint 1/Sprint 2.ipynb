{
 "cells": [
  {
   "cell_type": "code",
   "execution_count": 1,
   "metadata": {},
   "outputs": [],
   "source": [
    "from keras.preprocessing.image import ImageDataGenerator\n",
    "from keras.models import Sequential\n",
    "from keras.layers import Convolution2D, Dense, Dropout, Flatten, MaxPooling2D\n"
   ]
  },
  {
   "cell_type": "code",
   "execution_count": 2,
   "metadata": {},
   "outputs": [],
   "source": [
    "train_datagen = ImageDataGenerator(\n",
    "    rescale = 1./255,\n",
    "    shear_range = 0.2,\n",
    "    zoom_range = 0.2,\n",
    "    horizontal_flip = True\n",
    ")\n"
   ]
  },
  {
   "cell_type": "code",
   "execution_count": 3,
   "metadata": {},
   "outputs": [],
   "source": [
    "test_datagen = ImageDataGenerator(rescale = 1./255)\n"
   ]
  },
  {
   "cell_type": "code",
   "execution_count": 4,
   "metadata": {},
   "outputs": [
    {
     "name": "stdout",
     "output_type": "stream",
     "text": [
      "Found 15750 images belonging to 9 classes.\n"
     ]
    }
   ],
   "source": [
    "x_train = train_datagen.flow_from_directory(\n",
    "    './Datasets/training_sets',\n",
    "    target_size = (64, 64),\n",
    "    batch_size = 300,\n",
    "    class_mode = 'categorical',\n",
    "    color_mode = 'grayscale'\n",
    ")\n"
   ]
  },
  {
   "cell_type": "code",
   "execution_count": 5,
   "metadata": {},
   "outputs": [
    {
     "name": "stdout",
     "output_type": "stream",
     "text": [
      "Found 2250 images belonging to 9 classes.\n"
     ]
    }
   ],
   "source": [
    "x_test = test_datagen.flow_from_directory(\n",
    "    './Datasets/test_sets',\n",
    "    target_size = (64, 64),\n",
    "    batch_size = 300,\n",
    "    class_mode = 'categorical',\n",
    "    color_mode = 'grayscale'\n",
    ")\n"
   ]
  },
  {
   "cell_type": "code",
   "execution_count": 6,
   "metadata": {},
   "outputs": [],
   "source": [
    "model = Sequential()\n"
   ]
  },
  {
   "cell_type": "code",
   "execution_count": 7,
   "metadata": {},
   "outputs": [],
   "source": [
    "model.add(Convolution2D(32, (3, 3), input_shape = (64, 64, 1), activation = 'relu'))\n",
    "model.add(MaxPooling2D(pool_size = (2, 2)))\n",
    "model.add(Flatten())\n",
    "model.add(Dense(units = 512, activation = 'relu'))\n",
    "model.add(Dense(units = 9, activation = 'softmax'))\n"
   ]
  },
  {
   "cell_type": "code",
   "execution_count": 8,
   "metadata": {},
   "outputs": [],
   "source": [
    "model.compile(\n",
    "    loss = 'categorical_crossentropy',\n",
    "    optimizer = 'adam',\n",
    "    metrics = ['accuracy']\n",
    ")\n"
   ]
  },
  {
   "cell_type": "code",
   "execution_count": 9,
   "metadata": {},
   "outputs": [
    {
     "name": "stdout",
     "output_type": "stream",
     "text": [
      "Epoch 1/10\n",
      "24/24 [==============================] - ETA: 0s - loss: 0.7915 - accuracy: 0.7350WARNING:tensorflow:Your input ran out of data; interrupting training. Make sure that your dataset or generator can generate at least `steps_per_epoch * epochs` batches (in this case, 40 batches). You may need to use the repeat() function when building your dataset.\n",
      "24/24 [==============================] - 185s 8s/step - loss: 0.7915 - accuracy: 0.7350 - val_loss: 0.3025 - val_accuracy: 0.9191\n",
      "Epoch 2/10\n",
      "24/24 [==============================] - 74s 3s/step - loss: 0.1814 - accuracy: 0.9489\n",
      "Epoch 3/10\n",
      "24/24 [==============================] - 45s 2s/step - loss: 0.0874 - accuracy: 0.9756\n",
      "Epoch 4/10\n",
      "24/24 [==============================] - 31s 1s/step - loss: 0.0638 - accuracy: 0.9832\n",
      "Epoch 5/10\n",
      "24/24 [==============================] - 23s 951ms/step - loss: 0.0495 - accuracy: 0.9862\n",
      "Epoch 6/10\n",
      "24/24 [==============================] - 23s 944ms/step - loss: 0.0299 - accuracy: 0.9931\n",
      "Epoch 7/10\n",
      "24/24 [==============================] - 20s 811ms/step - loss: 0.0283 - accuracy: 0.9928\n",
      "Epoch 8/10\n",
      "24/24 [==============================] - 19s 789ms/step - loss: 0.0210 - accuracy: 0.9951\n",
      "Epoch 9/10\n",
      "24/24 [==============================] - 19s 772ms/step - loss: 0.0156 - accuracy: 0.9962\n",
      "Epoch 10/10\n",
      "24/24 [==============================] - 18s 761ms/step - loss: 0.0119 - accuracy: 0.9976\n"
     ]
    },
    {
     "data": {
      "text/plain": [
       "<keras.callbacks.History at 0x1f6967e7100>"
      ]
     },
     "execution_count": 9,
     "metadata": {},
     "output_type": "execute_result"
    }
   ],
   "source": [
    "model.fit(\n",
    "    x_train,\n",
    "    steps_per_epoch = 24,\n",
    "    epochs = 10,\n",
    "    validation_data = x_test,\n",
    "    validation_steps = 40\n",
    ")\n",
    "\n"
   ]
  },
  {
   "cell_type": "code",
   "execution_count": 10,
   "metadata": {},
   "outputs": [],
   "source": [
    "model.save('../as1png.h5')"
   ]
  }
 ],
 "metadata": {
  "kernelspec": {
   "display_name": "Python 3.10.0 64-bit",
   "language": "python",
   "name": "python3"
  },
  "language_info": {
   "codemirror_mode": {
    "name": "ipython",
    "version": 3
   },
   "file_extension": ".py",
   "mimetype": "text/x-python",
   "name": "python",
   "nbconvert_exporter": "python",
   "pygments_lexer": "ipython3",
   "version": "3.10.0"
  },
  "orig_nbformat": 4,
  "vscode": {
   "interpreter": {
    "hash": "68c5297898342058e6cee3379285a1537145e6d530fdcb2202b9b4ebdec4af74"
   }
  }
 },
 "nbformat": 4,
 "nbformat_minor": 2
}
